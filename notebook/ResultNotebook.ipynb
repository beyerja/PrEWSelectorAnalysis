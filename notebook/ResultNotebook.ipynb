{
 "cells": [
  {
   "cell_type": "markdown",
   "metadata": {},
   "source": [
    "## Analysing output of PrEWRunRK fits\n",
    "\n",
    "Using output of test toy fits from PrEW, import it into the PrOut python classes and create some histograms with it."
   ]
  },
  {
   "cell_type": "markdown",
   "metadata": {},
   "source": [
    "### Import reader module"
   ]
  },
  {
   "cell_type": "code",
   "execution_count": null,
   "metadata": {
    "collapsed": false
   },
   "outputs": [],
   "source": [
    "import sys\n",
    "sys.path.append(\"../source\")\n",
    "import DistrReader as DR"
   ]
  },
  {
   "cell_type": "markdown",
   "metadata": {},
   "source": [
    "### Import other modules"
   ]
  },
  {
   "cell_type": "code",
   "execution_count": null,
   "metadata": {
    "collapsed": true
   },
   "outputs": [],
   "source": [
    "import numpy as np\n",
    "import matplotlib.pyplot as plt\n",
    "from pathlib import Path"
   ]
  },
  {
   "cell_type": "markdown",
   "metadata": {},
   "source": [
    "### Set output directory"
   ]
  },
  {
   "cell_type": "code",
   "execution_count": null,
   "metadata": {
    "collapsed": true
   },
   "outputs": [],
   "source": [
    "output_dir = \"../output/plots/\"\n",
    "Path(output_dir).mkdir(parents=True, exist_ok=True)"
   ]
  },
  {
   "cell_type": "markdown",
   "metadata": {},
   "source": [
    "### Read distribution file"
   ]
  },
  {
   "cell_type": "code",
   "execution_count": null,
   "metadata": {
    "collapsed": false
   },
   "outputs": [],
   "source": [
    "dr = DR.DistrReader(\"../output/selection_result.out\")\n",
    "dr.read()\n",
    "print(\"Found {} distribution(s).\".format(len(dr.distrs)))"
   ]
  },
  {
   "cell_type": "markdown",
   "metadata": {},
   "source": [
    "### Define cuts to study"
   ]
  },
  {
   "cell_type": "code",
   "execution_count": null,
   "metadata": {
    "collapsed": true
   },
   "outputs": [],
   "source": [
    "cut_values = [0,5,10,15,20]\n",
    "colors = [\"#AA0A3C\", \"#8214A0\", \"#006E82\", \"#005AC8\", \"#0A9B4B\"]"
   ]
  },
  {
   "cell_type": "markdown",
   "metadata": {},
   "source": [
    "### Plot cut influence on each distribution"
   ]
  },
  {
   "cell_type": "code",
   "execution_count": null,
   "metadata": {
    "collapsed": false
   },
   "outputs": [],
   "source": [
    "# Draw how differential distributions at different pol. configurations change for different individual bin cuts\n",
    "for distr in dr.distrs:\n",
    "    # Draw one for each axis\n",
    "    for axis in range(distr.dim):\n",
    "        fig_cut, ax_cut = plt.subplots(tight_layout=True)\n",
    "        fig_cut.suptitle(\"{} {}\".format(distr.name,distr.pol_config))\n",
    "        \n",
    "        # Get the projections for each cut, check if axis actually exists and draw if so\n",
    "        axis_valid = True\n",
    "        for i_cut in range(len(cut_values)):\n",
    "            cut_value = cut_values[i_cut]\n",
    "            x, y = distr.projection(axis,cut_value)\n",
    "            # Check if axis actually exists\n",
    "            if (len(x) == 1):\n",
    "                axis_valid = False\n",
    "                break\n",
    "            dx = x[1] - x[0] # Assuming that steps are all equal\n",
    "            x_edges = np.append(np.array([x])-0.5*dx, x[-1]+0.5*dx)\n",
    "            \n",
    "            # Histogram drawing for all-zeroes more compilated...\n",
    "            if (np.amax(y) == 0) :\n",
    "                ax_cut.hist([],bins=x_edges,color=colors[i_cut], histtype='step', label=\"{}\".format(cut_value))\n",
    "            else :\n",
    "                ax_cut.hist(x,bins=x_edges,weights=y,color=colors[i_cut], histtype='step', label=\"{}\".format(cut_value))\n",
    "            \n",
    "        if not axis_valid: continue # Distribution wasn't actually differential in this observable => Skip it\n",
    "        \n",
    "        ax_cut.legend(title=\"Cut value\", loc=0)\n",
    "        \n",
    "        fig_cut.savefig(\"{}cuts_{}_{}_axis{}.pdf\".format(output_dir,distr.name,distr.pol_config,axis))"
   ]
  },
  {
   "cell_type": "markdown",
   "metadata": {},
   "source": [
    "### Plot overall cut influence\n",
    "Collect influence of the cuts on the distribution integrals"
   ]
  },
  {
   "cell_type": "code",
   "execution_count": null,
   "metadata": {
    "collapsed": false
   },
   "outputs": [],
   "source": [
    "# First find all (relative) integrals and put them in an ordered map\n",
    "distr_map = {}\n",
    "for distr in dr.distrs:\n",
    "    rel_integr_after_cuts = np.array([distr.integral(cut_value) for cut_value in cut_values]) / distr.integral()\n",
    "    if not distr.pol_config in distr_map.keys():\n",
    "        distr_map[distr.pol_config] = {distr.name : rel_integr_after_cuts}\n",
    "    else:\n",
    "        distr_map[distr.pol_config][distr.name] = rel_integr_after_cuts\n",
    "        \n",
    "# Plot cut influence for each polarisation configuration\n",
    "for pol_config, distrs in distr_map.items():\n",
    "    x_vals = np.arange(0.5,len(distrs)+0.5)\n",
    "    x_names = []\n",
    "    y_vals = np.empty(shape=(len(cut_values),len(distrs)))\n",
    "    \n",
    "    i_distr = 0\n",
    "    for name, integrals in distrs.items():\n",
    "        x_names.append(name)\n",
    "        for i_cut in range(len(cut_values)):\n",
    "            y_vals[i_cut][i_distr] = integrals[i_cut]#np.append(y_vals[i_cut],integrals[i_cut])\n",
    "        i_distr += 1\n",
    "\n",
    "    # Create the figure\n",
    "    fig_int, ax_int = plt.subplots(tight_layout=True)\n",
    "    fig_int.suptitle(\"{}\".format(pol_config))\n",
    "    ax_int.set_ylabel(\"Rel. integral after cut\")\n",
    "    \n",
    "    # Plot all integrals for all cut values\n",
    "    for i_cut in range(len(cut_values)):\n",
    "        ax_int.errorbar(x_vals,y_vals[i_cut],xerr=0.25,label=\"{}\".format(cut_values[i_cut]), ecolor=colors[i_cut], fmt='none')\n",
    "    \n",
    "    # Sensible axis limits\n",
    "    ax_int.set_ylim(0,1.1)\n",
    "    \n",
    "    # We want to show all ticks...\n",
    "    ax_int.set_xticks(np.arange(0.5,len(distrs)+0.5))\n",
    "    # ... and label them with the respective list entries\n",
    "    ax_int.set_xticklabels(x_names)\n",
    "    # Rotate the tick labels and set their alignment.\n",
    "    plt.setp(ax_int.get_xticklabels(), rotation=45, ha=\"right\",rotation_mode=\"anchor\")\n",
    "    \n",
    "    # Create the legend\n",
    "    plt.legend(title=\"Cut value\", loc=0)\n",
    "    \n",
    "    # Save the figure\n",
    "    fig_int.savefig(\"{}integrals_{}.pdf\".format(output_dir,pol_config))"
   ]
  }
 ],
 "metadata": {
  "kernelspec": {
   "display_name": "Python 3",
   "language": "python",
   "name": "python3"
  },
  "language_info": {
   "codemirror_mode": {
    "name": "ipython",
    "version": 3
   },
   "file_extension": ".py",
   "mimetype": "text/x-python",
   "name": "python",
   "nbconvert_exporter": "python",
   "pygments_lexer": "ipython3",
   "version": "3.5.1"
  }
 },
 "nbformat": 4,
 "nbformat_minor": 4
}
